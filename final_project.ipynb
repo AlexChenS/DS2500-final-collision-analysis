{
 "cells": [
  {
   "cell_type": "markdown",
   "id": "c5623729-86b6-4d76-99ed-d9887c7e200a",
   "metadata": {},
   "source": [
    "Vehicular Crash Data Investigation From Maryland DoT"
   ]
  },
  {
   "cell_type": "code",
   "execution_count": null,
   "id": "752ded55-28a4-42b4-a15d-1529b53cc9e6",
   "metadata": {},
   "outputs": [],
   "source": [
    "import pandas as pd\n",
    "import seaborn as sns\n",
    "from sklearn.model_selection import train_test_split, cross_validate\n",
    "from sklearn.preprocessing import StandardScaler\n",
    "from sklearn.decomposition import PCA\n",
    "from sklearn.neighbors import KNeighborsClassifier\n",
    "from sklearn.cluster import KMeans\n",
    "import matplotlib.pyplot as plt\n",
    "import numpy as np\n",
    "from datetime import datetime\n",
    "import time\n",
    "from math import cos, pi\n",
    "\n",
    "\n",
    "# Load the dataset\n",
    "FILE = \"../data/crashes.csv\"\n",
    "df = pd.read_csv(FILE)"
   ]
  },
  {
   "cell_type": "markdown",
   "id": "7a94c340-33f2-4f9e-9684-ae7e8b85996b",
   "metadata": {},
   "source": [
    "### Approach 1: Assign increasing numbers to reflect danger level in ordinal categorical variables"
   ]
  },
  {
   "cell_type": "code",
   "execution_count": null,
   "id": "065c689c-da51-4bae-9da1-d3d9500e4f02",
   "metadata": {},
   "outputs": [],
   "source": [
    "# Select relevant columns and drop missing values\n",
    "df1 = df[[\"Weather\", \"Surface Condition\", \"Vehicle Damage Extent\", \"Speed Limit\", \"Crash Date/Time\"]].dropna()\n",
    "\n",
    "# Convert string columns to lowercase (if applicable)\n",
    "for col in [\"Weather\", \"Surface Condition\", \"Vehicle Damage Extent\"]:\n",
    "    df1[col] = df1[col].map(lambda x: x.lower() if isinstance(x, str) else x)\n",
    "\n",
    "# Remove rows with \"unknown\" or \"other\" values in specified columns\n",
    "str_to_drop = [\"unknown\", \"other\"]\n",
    "mask = ~df1[[\"Weather\", \"Surface Condition\", \"Vehicle Damage Extent\"]].isin(str_to_drop).any(axis=1)\n",
    "df1 = df1[mask]"
   ]
  },
  {
   "cell_type": "code",
   "execution_count": null,
   "id": "fc7a980e-e4c1-4349-b684-67f3f0699ab2",
   "metadata": {},
   "outputs": [],
   "source": [
    "# Define mappings for danger levels\n",
    "weather_danger_levels = {\n",
    "    \"clear\": 0,  \n",
    "    \"raining\": 3,\n",
    "    \"cloudy\": 1,                              \n",
    "    \"rain\": 2,                                                                 \n",
    "    \"snow\": 4,                                 \n",
    "    \"foggy\": 5,                                                                  \n",
    "    \"wintry mix\": 6,                                                           \n",
    "    \"sleet\": 7,                                  \n",
    "    \"severe winds\": 8,                          \n",
    "    \"blowing snow\": 9,                           \n",
    "    \"fog, smog, smoke\": 10,                       \n",
    "    \"blowing sand, soil, dirt\": 11,                \n",
    "    \"freezing rain or freezing drizzle\": 12,      \n",
    "    \"severe crosswinds\": 13,                        \n",
    "    \"sleet or hail\": 14,    \n",
    "}\n",
    "surface_danger_levels = {\n",
    "    \"dry\": 0,                          \n",
    "    \"wet\": 1,                         \n",
    "    \"snow\": 2,                         \n",
    "    \"ice\": 3,                         \n",
    "    \"slush\": 4,                         \n",
    "    \"ice/frost\": 5,                        \n",
    "    \"mud, dirt, gravel\": 6,               \n",
    "    \"water(standing/moving)\": 7,           \n",
    "    \"oil\": 8,                           \n",
    "    \"sand\": 9,                             \n",
    "    \"water (standing, moving)\": 10 \n",
    "}\n",
    "vehicle_damage_levels = {\n",
    "    \"disabling\": 4,\n",
    "    \"functional\": 3, \n",
    "    \"superficial\": 2,\n",
    "    \"destroyed\": 5, \n",
    "    \"no damage\": 1, \n",
    "    \"vehicle not at scene\": 0,\n",
    "}"
   ]
  },
  {
   "cell_type": "code",
   "execution_count": null,
   "id": "40115c1e-2670-403a-921e-0e14a1adc979",
   "metadata": {},
   "outputs": [],
   "source": [
    "# Map danger levels to their numeric values\n",
    "df1[\"Weather Danger Level\"] = df1[\"Weather\"].map(weather_danger_levels)\n",
    "df1[\"Surface Danger Level\"] = df1[\"Surface Condition\"].map(surface_danger_levels)\n",
    "df1[\"Vehicle Damage Level\"] = df1[\"Vehicle Damage Extent\"].map(vehicle_damage_levels)\n",
    "\n",
    "# Parse datetime and extract Month and Hour\n",
    "df1[\"datetime\"] = pd.to_datetime(df1[\"Crash Date/Time\"], errors=\"coerce\")  # Handle invalid dates gracefully\n",
    "df1[\"Month\"] = df1[\"datetime\"].dt.month\n",
    "df1[\"Hour\"] = df1[\"datetime\"].dt.hour \n",
    "# + (df1[\"datetime\"].dt.minute / 60)\n",
    "\n",
    "# Drop rows with invalid datetime entries (if any)\n",
    "df1 = df1.dropna(subset=[\"datetime\"])\n",
    "\n",
    "# Normalize and prepare features\n",
    "def normalize(data):\n",
    "    return (data - data.min()) / (data.max() - data.min())\n",
    "\n",
    "features = [\"Weather Danger Level\", \"Surface Danger Level\", \"Speed Limit\", \"Month\", \"Hour\"]\n",
    "df_features = pd.DataFrame(index=df1.index)\n",
    "\n",
    "\n",
    "for x in features:\n",
    "    df_features[x] = normalize(df1[x])\n",
    "df_features"
   ]
  },
  {
   "cell_type": "markdown",
   "id": "b6b13a20-c770-4e7d-9259-098bbe6e31e6",
   "metadata": {},
   "source": [
    "### Correlation Heatmap"
   ]
  },
  {
   "cell_type": "code",
   "execution_count": null,
   "id": "7e82301c-3c33-4210-848f-022066834996",
   "metadata": {
    "scrolled": true
   },
   "outputs": [],
   "source": [
    "sample_num = 50\n",
    "df_sample = pd.DataFrame()\n",
    "for col in df_features:\n",
    "    df_sample[col] = df_features[col].sample(n=sample_num).reset_index(drop=True)\n",
    "\n",
    "pd.concat((df_sample, df1[\"Vehicle Damage Level\"]))\n",
    "sns.swarmplot(data=df_sample, palette=[\"#3276B2\"])\n",
    "plt.title(\"Swarm plot for features\")\n",
    "plt.grid()\n",
    "plt.xticks(rotation=90)\n",
    "plt.savefig(\"swarm_plot.png\", bbox_inches=\"tight\")\n",
    "plt.show()\n"
   ]
  },
  {
   "cell_type": "code",
   "execution_count": null,
   "id": "e95b34d2-9411-4a42-b32b-2735495aab42",
   "metadata": {},
   "outputs": [],
   "source": [
    "def get_heatmap(data):\n",
    "    sns.heatmap(data.corr(), cmap=\"YlGnBu\", annot=True, cbar=False)\n",
    "    plt.title(\"Correlation Heatmap between Variables\")\n",
    "    plt.savefig(\"correlation_heatmap.png\", bbox_inches=\"tight\")\n",
    "    plt.show()\n",
    "get_heatmap(df_features)"
   ]
  },
  {
   "cell_type": "code",
   "execution_count": null,
   "id": "03566ede-a04f-4cdf-a9c0-934fbaf73601",
   "metadata": {},
   "outputs": [],
   "source": [
    "def output_to_file(data, filename):\n",
    "    with open(filename, \"w\") as file:\n",
    "        json.dump(data, file)"
   ]
  },
  {
   "cell_type": "markdown",
   "id": "890e7ea3-75a1-4e73-8fb0-36a358bb1ec4",
   "metadata": {},
   "source": [
    "### Hyper-parameter Tuning"
   ]
  },
  {
   "cell_type": "code",
   "execution_count": null,
   "id": "00afcbe5-6cbe-4d55-98c2-20f48ef1fdbd",
   "metadata": {},
   "outputs": [],
   "source": [
    "X_train, X_test,y_train, y_test = train_test_split(df_features, df1[\"Vehicle Damage Level\"], test_size=0.2, random_state=42)\n",
    "def fit_KNN(start, k_value, X, y):\n",
    "    '''Runs K-Nearest Neighbours and calculates the mean accuracy across five folds. Also increments k to find \n",
    "    optimal accuracy. Reutrns a list of tuples with (k, accuracy).\n",
    "    '''\n",
    "    scores = []\n",
    "    algo_time = 0\n",
    "    start_time = time.time()\n",
    "    for i in range(start, k_value + 1):\n",
    "        # Define KNN model with the current value of k\n",
    "        knn = KNeighborsClassifier(n_neighbors=i)\n",
    "        \n",
    "        # Perform cross-validation and calculate mean accuracy\n",
    "        score = cross_validate(knn, X, y, scoring=\"accuracy\", cv=5)\n",
    "        mean_score = np.mean(score['test_score'])\n",
    "        \n",
    "        # Append the result to the scores list\n",
    "        scores.append((i, mean_score))\n",
    "    end_time = time.time()\n",
    "    algo_time = end_time - start_time\n",
    "    return scores, algo_time\n",
    "scores = fit_KNN(3, 100, X_train, y_train)\n",
    "scores"
   ]
  },
  {
   "cell_type": "markdown",
   "id": "7af13ed8-1542-4287-97b1-72efc5b091e0",
   "metadata": {},
   "source": [
    "0.40577298233005477, 0.40487748399025214"
   ]
  },
  {
   "cell_type": "code",
   "execution_count": null,
   "id": "ed404ce2-7408-49ad-bf87-58664333ecb9",
   "metadata": {},
   "outputs": [],
   "source": [
    "output_to_file(scores, \"approach_1_score\")"
   ]
  },
  {
   "cell_type": "markdown",
   "id": "062d25ba-9cfd-4c91-acc0-7544a30f19de",
   "metadata": {},
   "source": [
    "#### visualization"
   ]
  },
  {
   "cell_type": "code",
   "execution_count": null,
   "id": "646138fe-675c-487e-957a-753aed5ba240",
   "metadata": {},
   "outputs": [],
   "source": [
    "def plot_score_map(score, plot_name):\n",
    "    '''plot the accuracy of the model with each different number of k'''\n",
    "    df_score = pd.DataFrame(data=score[0], columns=[\"k_value\", \"Accuracy\"])\n",
    "    sns.lineplot(x=df_score[\"k_value\"], y=df_score[\"Accuracy\"])\n",
    "    timestamp = datetime.now().strftime(\"%Y%m%d_%H%M%S\")\n",
    "    plt.title(plot_name)\n",
    "    plt.grid()\n",
    "    plt.savefig(plot_name + \"_\" + timestamp)\n",
    "    plt.show()\n",
    "# plot_score_map(scores, \"KNN Hyper-parameter Tuning\")"
   ]
  },
  {
   "cell_type": "markdown",
   "id": "3b694651-0c34-4176-936c-07643d911f09",
   "metadata": {},
   "source": [
    "### Approach 2: Use one-hot encoding for variables, and then reduce dimensions by PCA"
   ]
  },
  {
   "cell_type": "code",
   "execution_count": null,
   "id": "def3c620-d5a4-4373-8826-1a5c840dfacd",
   "metadata": {},
   "outputs": [],
   "source": [
    "df2 = df1.copy()\n",
    "df2[\"Speed Limit\"] = df2[\"Speed Limit\"].map(lambda x:str(x))\n",
    "df2[\"Month\"] = df2[\"Month\"].map(lambda x:str(x))\n",
    "df2[\"Hour\"] = df2[\"Hour\"].map(lambda x:str(x))\n",
    "df2_dummy= pd.get_dummies(data=df2[features], dtype=int)\n",
    "df2_dummy"
   ]
  },
  {
   "cell_type": "code",
   "execution_count": null,
   "id": "6f3fc0ab-619f-4ca6-9325-0a26a9644faa",
   "metadata": {},
   "outputs": [],
   "source": [
    "#reduce dimension of the data\n",
    "pca = PCA(n_components=10)\n",
    "components = pca.fit_transform(df2_dummy.to_numpy())\n",
    "components"
   ]
  },
  {
   "cell_type": "code",
   "execution_count": null,
   "id": "216d0771-0052-42d0-a86c-ddb673b3490a",
   "metadata": {},
   "outputs": [],
   "source": [
    "plt.plot(range(1, len(pca.explained_variance_ratio_) + 1), pca.explained_variance_ratio_, marker=\".\")\n",
    "plt.xlabel('Number of Components')\n",
    "plt.ylabel('Variance Explained')\n",
    "plt.title('Elbow Plot')\n",
    "plt.grid()\n",
    "plt.savefig(\"pca_elbow_plot.png\")\n",
    "plt.show()\n"
   ]
  },
  {
   "cell_type": "code",
   "execution_count": null,
   "id": "f3bdc65d-50f1-469c-a185-82ce6449b7ae",
   "metadata": {},
   "outputs": [],
   "source": [
    "X_train_2, X_test_2,y_train_2, y_test_2 = train_test_split(components, df1[\"Vehicle Damage Level\"], test_size=0.2, random_state=42)\n",
    "# approach_2_score = fit_KNN(3, 100, X_train_2, y_train_2)\n",
    "approach_2_score"
   ]
  },
  {
   "cell_type": "code",
   "execution_count": null,
   "id": "27238d60-a92a-4413-82b7-1d5c1fd5ca44",
   "metadata": {},
   "outputs": [],
   "source": [
    "output_to_file(approach_2_score, \"approach_2_score\")"
   ]
  },
  {
   "cell_type": "markdown",
   "id": "9cfe7d52-47c8-41f5-8090-fc1bc2405e0e",
   "metadata": {},
   "source": [
    "#### visulization"
   ]
  },
  {
   "cell_type": "code",
   "execution_count": null,
   "id": "22ba1ea9-fbe2-4fa1-994c-d856000f19b7",
   "metadata": {},
   "outputs": [],
   "source": [
    "plot_score_map(approach_2_score, \"Approach 2 KNN Hyper-parameter Tuning\")"
   ]
  },
  {
   "cell_type": "code",
   "execution_count": null,
   "id": "94fc7447-6930-4cb5-bd04-d3e3a2d1d46c",
   "metadata": {},
   "outputs": [],
   "source": []
  },
  {
   "cell_type": "code",
   "execution_count": null,
   "id": "867cc888-2bbe-4269-9dd6-b061d45c6dcc",
   "metadata": {},
   "outputs": [],
   "source": []
  },
  {
   "cell_type": "code",
   "execution_count": null,
   "id": "fed8abf3-1740-4d3e-9730-d568716fed73",
   "metadata": {},
   "outputs": [],
   "source": []
  },
  {
   "cell_type": "code",
   "execution_count": null,
   "id": "6f4870c7-ff1a-477a-848b-cf58676fb18b",
   "metadata": {},
   "outputs": [],
   "source": []
  }
 ],
 "metadata": {
  "kernelspec": {
   "display_name": "Python 3 (ipykernel)",
   "language": "python",
   "name": "python3"
  },
  "language_info": {
   "codemirror_mode": {
    "name": "ipython",
    "version": 3
   },
   "file_extension": ".py",
   "mimetype": "text/x-python",
   "name": "python",
   "nbconvert_exporter": "python",
   "pygments_lexer": "ipython3",
   "version": "3.11.7"
  }
 },
 "nbformat": 4,
 "nbformat_minor": 5
}
